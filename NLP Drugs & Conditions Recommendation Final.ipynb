{
 "cells": [
  {
   "cell_type": "code",
   "execution_count": 1,
   "id": "2c62770f",
   "metadata": {},
   "outputs": [],
   "source": [
    "import numpy as np\n",
    "import pandas as pd\n",
    "import string\n",
    "\n",
    "import matplotlib.pyplot as plt\n",
    "import seaborn as sns\n",
    "import nltk\n",
    "from nltk.sentiment.vader import SentimentIntensityAnalyzer\n",
    "from nltk.corpus import stopwords\n",
    "from nltk.tokenize import word_tokenize\n",
    "#nltk.download('stopwords')\n",
    "#nltk.download('vader_lexicon')\n",
    "#nltk.download('punkt')\n",
    "\n",
    "from nltk.corpus import stopwords\n",
    "import ipywidgets\n",
    "from ipywidgets import interact\n",
    "\n",
    "plt.rcParams['figure.figsize'] = (15, 5)\n",
    "plt.style.use('fivethirtyeight')\n",
    "\n",
    "import warnings\n",
    "warnings.filterwarnings('ignore')"
   ]
  },
  {
   "cell_type": "markdown",
   "id": "fba6f6ee",
   "metadata": {},
   "source": [
    "## Import the df\n",
    "\n",
    "df is available on UCI Machine Learning "
   ]
  },
  {
   "cell_type": "code",
   "execution_count": 2,
   "id": "bba71559",
   "metadata": {},
   "outputs": [
    {
     "data": {
      "text/plain": [
       "(161297, 7)"
      ]
     },
     "execution_count": 2,
     "metadata": {},
     "output_type": "execute_result"
    }
   ],
   "source": [
    "df = pd.read_csv('medicationByConditions.csv')\n",
    "df.shape"
   ]
  },
  {
   "cell_type": "markdown",
   "id": "3f8b9112",
   "metadata": {},
   "source": [
    "## Size of our df"
   ]
  },
  {
   "cell_type": "code",
   "execution_count": 3,
   "id": "c3d222ae",
   "metadata": {},
   "outputs": [
    {
     "name": "stdout",
     "output_type": "stream",
     "text": [
      "There are 161297 rows in our dfset and 7 columns.\n"
     ]
    }
   ],
   "source": [
    "rows = df.shape[0]\n",
    "features = df.shape[1]\n",
    "\n",
    "print(\"There are {} rows in our dfset and {} columns.\".format(rows,features))\n"
   ]
  },
  {
   "cell_type": "code",
   "execution_count": 4,
   "id": "35c3bbb9",
   "metadata": {},
   "outputs": [
    {
     "data": {
      "text/html": [
       "<div>\n",
       "<style scoped>\n",
       "    .dataframe tbody tr th:only-of-type {\n",
       "        vertical-align: middle;\n",
       "    }\n",
       "\n",
       "    .dataframe tbody tr th {\n",
       "        vertical-align: top;\n",
       "    }\n",
       "\n",
       "    .dataframe thead th {\n",
       "        text-align: right;\n",
       "    }\n",
       "</style>\n",
       "<table border=\"1\" class=\"dataframe\">\n",
       "  <thead>\n",
       "    <tr style=\"text-align: right;\">\n",
       "      <th></th>\n",
       "      <th>uniqueID</th>\n",
       "      <th>drugName</th>\n",
       "      <th>condition</th>\n",
       "      <th>review</th>\n",
       "      <th>rating</th>\n",
       "      <th>date</th>\n",
       "      <th>usefulCount</th>\n",
       "    </tr>\n",
       "  </thead>\n",
       "  <tbody>\n",
       "    <tr>\n",
       "      <th>0</th>\n",
       "      <td>206461</td>\n",
       "      <td>Valsartan</td>\n",
       "      <td>Left Ventricular Dysfunction</td>\n",
       "      <td>\"It has no side effect, I take it in combinati...</td>\n",
       "      <td>9</td>\n",
       "      <td>20-May-12</td>\n",
       "      <td>27</td>\n",
       "    </tr>\n",
       "    <tr>\n",
       "      <th>1</th>\n",
       "      <td>95260</td>\n",
       "      <td>Guanfacine</td>\n",
       "      <td>ADHD</td>\n",
       "      <td>\"My son is halfway through his fourth week of ...</td>\n",
       "      <td>8</td>\n",
       "      <td>27-Apr-10</td>\n",
       "      <td>192</td>\n",
       "    </tr>\n",
       "    <tr>\n",
       "      <th>2</th>\n",
       "      <td>92703</td>\n",
       "      <td>Lybrel</td>\n",
       "      <td>Birth Control</td>\n",
       "      <td>\"I used to take another oral contraceptive, wh...</td>\n",
       "      <td>5</td>\n",
       "      <td>14-Dec-09</td>\n",
       "      <td>17</td>\n",
       "    </tr>\n",
       "    <tr>\n",
       "      <th>3</th>\n",
       "      <td>138000</td>\n",
       "      <td>Ortho Evra</td>\n",
       "      <td>Birth Control</td>\n",
       "      <td>\"This is my first time using any form of birth...</td>\n",
       "      <td>8</td>\n",
       "      <td>3-Nov-15</td>\n",
       "      <td>10</td>\n",
       "    </tr>\n",
       "    <tr>\n",
       "      <th>4</th>\n",
       "      <td>35696</td>\n",
       "      <td>Buprenorphine / naloxone</td>\n",
       "      <td>Opiate Dependence</td>\n",
       "      <td>\"Suboxone has completely turned my life around...</td>\n",
       "      <td>9</td>\n",
       "      <td>27-Nov-16</td>\n",
       "      <td>37</td>\n",
       "    </tr>\n",
       "  </tbody>\n",
       "</table>\n",
       "</div>"
      ],
      "text/plain": [
       "   uniqueID                  drugName                     condition  \\\n",
       "0    206461                 Valsartan  Left Ventricular Dysfunction   \n",
       "1     95260                Guanfacine                          ADHD   \n",
       "2     92703                    Lybrel                 Birth Control   \n",
       "3    138000                Ortho Evra                 Birth Control   \n",
       "4     35696  Buprenorphine / naloxone             Opiate Dependence   \n",
       "\n",
       "                                              review  rating       date  \\\n",
       "0  \"It has no side effect, I take it in combinati...       9  20-May-12   \n",
       "1  \"My son is halfway through his fourth week of ...       8  27-Apr-10   \n",
       "2  \"I used to take another oral contraceptive, wh...       5  14-Dec-09   \n",
       "3  \"This is my first time using any form of birth...       8   3-Nov-15   \n",
       "4  \"Suboxone has completely turned my life around...       9  27-Nov-16   \n",
       "\n",
       "   usefulCount  \n",
       "0           27  \n",
       "1          192  \n",
       "2           17  \n",
       "3           10  \n",
       "4           37  "
      ]
     },
     "execution_count": 4,
     "metadata": {},
     "output_type": "execute_result"
    }
   ],
   "source": [
    "df.head()"
   ]
  },
  {
   "cell_type": "markdown",
   "id": "0e1888f4",
   "metadata": {},
   "source": [
    "## List of Column Names"
   ]
  },
  {
   "cell_type": "code",
   "execution_count": 5,
   "id": "2d352442",
   "metadata": {},
   "outputs": [
    {
     "data": {
      "text/plain": [
       "Index(['uniqueID', 'drugName', 'condition', 'review', 'rating', 'date',\n",
       "       'usefulCount'],\n",
       "      dtype='object')"
      ]
     },
     "execution_count": 5,
     "metadata": {},
     "output_type": "execute_result"
    }
   ],
   "source": [
    "df.columns"
   ]
  },
  {
   "cell_type": "markdown",
   "id": "5d23008c",
   "metadata": {},
   "source": [
    "## Any missing df"
   ]
  },
  {
   "cell_type": "code",
   "execution_count": 6,
   "id": "874ad6ab",
   "metadata": {},
   "outputs": [
    {
     "data": {
      "text/plain": [
       "uniqueID         0\n",
       "drugName         0\n",
       "condition      899\n",
       "review           0\n",
       "rating           0\n",
       "date             0\n",
       "usefulCount      0\n",
       "dtype: int64"
      ]
     },
     "execution_count": 6,
     "metadata": {},
     "output_type": "execute_result"
    }
   ],
   "source": [
    "df.isnull().sum()"
   ]
  },
  {
   "cell_type": "markdown",
   "id": "602eaf45",
   "metadata": {},
   "source": [
    "## Since medical condition is important, Drop missing rows"
   ]
  },
  {
   "cell_type": "code",
   "execution_count": 7,
   "id": "99effad4",
   "metadata": {},
   "outputs": [
    {
     "data": {
      "text/plain": [
       "(160398, 7)"
      ]
     },
     "execution_count": 7,
     "metadata": {},
     "output_type": "execute_result"
    }
   ],
   "source": [
    "df.dropna(inplace=True)\n",
    "df.shape"
   ]
  },
  {
   "cell_type": "markdown",
   "id": "198ff1fa",
   "metadata": {},
   "source": [
    "##  How many different types of Drugs & Conditions"
   ]
  },
  {
   "cell_type": "code",
   "execution_count": 8,
   "id": "682eefc7",
   "metadata": {},
   "outputs": [
    {
     "name": "stdout",
     "output_type": "stream",
     "text": [
      "There are 884 unique medical conditions.\n",
      "\n",
      "There are 3431 unique medical drug names.\n"
     ]
    }
   ],
   "source": [
    "\n",
    "print(\"There are {} unique medical conditions.\".format(df['condition'].nunique()))\n",
    "print()\n",
    "print(\"There are {} unique medical drug names.\".format(df['drugName'].nunique()))\n",
    "\n"
   ]
  },
  {
   "cell_type": "markdown",
   "id": "707f1d76",
   "metadata": {},
   "source": [
    "## Top 25 used drugs"
   ]
  },
  {
   "cell_type": "code",
   "execution_count": 49,
   "id": "01caad6c",
   "metadata": {
    "scrolled": true
   },
   "outputs": [
    {
     "data": {
      "image/png": "[encoded data removed]",
      "text/plain": [
       "<Figure size 1440x720 with 1 Axes>"
      ]
     },
     "metadata": {},
     "output_type": "display_data"
    }
   ],
   "source": [
    "plt.figure(figsize=(20,10))\n",
    "df['drugName'].value_counts().nlargest(10).plot(kind='bar')\n",
    "plt.title(\"Top 10 Used Drugs\")\n",
    "plt.xticks(rotation=80)\n",
    "\n",
    "plt.show()"
   ]
  },
  {
   "cell_type": "code",
   "execution_count": 15,
   "id": "8737e763",
   "metadata": {},
   "outputs": [
    {
     "data": {
      "text/plain": [
       "Levonorgestrel                        3631\n",
       "Etonogestrel                          3321\n",
       "Ethinyl estradiol / norethindrone     2750\n",
       "Nexplanon                             2156\n",
       "Ethinyl estradiol / norgestimate      2033\n",
       "Ethinyl estradiol / levonorgestrel    1809\n",
       "Phentermine                           1538\n",
       "Sertraline                            1353\n",
       "Escitalopram                          1287\n",
       "Mirena                                1242\n",
       "Name: drugName, dtype: int64"
      ]
     },
     "execution_count": 15,
     "metadata": {},
     "output_type": "execute_result"
    }
   ],
   "source": [
    "df['drugName'].value_counts().nlargest(10)"
   ]
  },
  {
   "cell_type": "markdown",
   "id": "9078e7f2",
   "metadata": {},
   "source": [
    "## Top 25 Medical Conditions"
   ]
  },
  {
   "cell_type": "code",
   "execution_count": 41,
   "id": "622a0375",
   "metadata": {},
   "outputs": [
    {
     "data": {
      "image/png": "[encoded data removed]",
      "text/plain": [
       "<Figure size 1440x720 with 1 Axes>"
      ]
     },
     "metadata": {},
     "output_type": "display_data"
    }
   ],
   "source": [
    "plt.figure(figsize=(20,10))\n",
    "df['condition'].value_counts().nlargest(10).plot(kind='bar')\n",
    "plt.title(\"Top 10 Medical Conditions\")\n",
    "plt.xticks(rotation=30)\n",
    "plt.show()"
   ]
  },
  {
   "cell_type": "code",
   "execution_count": 14,
   "id": "352904e0",
   "metadata": {},
   "outputs": [
    {
     "data": {
      "text/plain": [
       "Birth Control      28788\n",
       "Depression          9069\n",
       "Pain                6145\n",
       "Anxiety             5904\n",
       "Acne                5588\n",
       "Bipolar Disorde     4224\n",
       "Insomnia            3673\n",
       "Weight Loss         3609\n",
       "Obesity             3568\n",
       "ADHD                3383\n",
       "Name: condition, dtype: int64"
      ]
     },
     "execution_count": 14,
     "metadata": {},
     "output_type": "execute_result"
    }
   ],
   "source": [
    "df['condition'].value_counts().nlargest(10)"
   ]
  },
  {
   "cell_type": "markdown",
   "id": "8233bc81",
   "metadata": {},
   "source": [
    "## Number of drugs available per Medical condition"
   ]
  },
  {
   "cell_type": "code",
   "execution_count": 13,
   "id": "a7f89e62",
   "metadata": {},
   "outputs": [
    {
     "data": {
      "text/plain": [
       "condition\n",
       "Not Listed / Othe                             214\n",
       "Pain                                          200\n",
       "Birth Control                                 172\n",
       "High Blood Pressure                           140\n",
       "Acne                                          117\n",
       "Depression                                    105\n",
       "Rheumatoid Arthritis                           98\n",
       "Diabetes, Type 2                               89\n",
       "Allergic Rhinitis                              88\n",
       "Bipolar Disorde                                80\n",
       "Osteoarthritis                                 80\n",
       "Anxiety                                        78\n",
       "Insomnia                                       78\n",
       "Abnormal Uterine Bleeding                      74\n",
       "Migraine                                       59\n",
       "Psoriasis                                      58\n",
       "3</span> users found this comment helpful.     57\n",
       "Endometriosis                                  57\n",
       "ADHD                                           55\n",
       "Asthma, Maintenance                            54\n",
       "Chronic Pain                                   53\n",
       "Migraine Prevention                            50\n",
       "Irritable Bowel Syndrome                       49\n",
       "Major Depressive Disorde                       49\n",
       "Urinary Tract Infection                        47\n",
       "Name: drugName, dtype: int64"
      ]
     },
     "execution_count": 13,
     "metadata": {},
     "output_type": "execute_result"
    }
   ],
   "source": [
    "df.groupby('condition')['drugName'].nunique().nlargest(25)"
   ]
  },
  {
   "cell_type": "code",
   "execution_count": 14,
   "id": "c2696a1e",
   "metadata": {},
   "outputs": [
    {
     "data": {
      "image/png": "[encoded data removed]",
      "text/plain": [
       "<Figure size 1080x720 with 1 Axes>"
      ]
     },
     "metadata": {},
     "output_type": "display_data"
    }
   ],
   "source": [
    "plt.figure(figsize=(15,10))\n",
    "df.groupby('condition')['drugName'].nunique().nlargest(25).plot(kind='bar')\n",
    "plt.title(\"Number of Drugs Per Condition\")\n",
    "plt.grid()\n",
    "plt.show()"
   ]
  },
  {
   "cell_type": "markdown",
   "id": "0ceb7ae1",
   "metadata": {},
   "source": [
    "## Ratings & Useful Reviews  EDA"
   ]
  },
  {
   "cell_type": "code",
   "execution_count": 52,
   "id": "1f97a140",
   "metadata": {},
   "outputs": [
    {
     "data": {
      "image/png": "[encoded data removed]",
      "text/plain": [
       "<Figure size 1080x360 with 1 Axes>"
      ]
     },
     "metadata": {},
     "output_type": "display_data"
    }
   ],
   "source": [
    "df.groupby('rating').size().plot(kind='bar')\n",
    "plt.title(\"Medical Drug Rating Distributions\")\n",
    "plt.xticks(rotation=360)\n",
    "\n",
    "plt.show()"
   ]
  },
  {
   "cell_type": "code",
   "execution_count": 16,
   "id": "29f1f7f8",
   "metadata": {},
   "outputs": [
    {
     "data": {
      "text/html": [
       "<div>\n",
       "<style scoped>\n",
       "    .dataframe tbody tr th:only-of-type {\n",
       "        vertical-align: middle;\n",
       "    }\n",
       "\n",
       "    .dataframe tbody tr th {\n",
       "        vertical-align: top;\n",
       "    }\n",
       "\n",
       "    .dataframe thead th {\n",
       "        text-align: right;\n",
       "    }\n",
       "</style>\n",
       "<table border=\"1\" class=\"dataframe\">\n",
       "  <thead>\n",
       "    <tr style=\"text-align: right;\">\n",
       "      <th></th>\n",
       "      <th>rating</th>\n",
       "      <th>usefulCount</th>\n",
       "    </tr>\n",
       "  </thead>\n",
       "  <tbody>\n",
       "    <tr>\n",
       "      <th>count</th>\n",
       "      <td>160398.000000</td>\n",
       "      <td>160398.000000</td>\n",
       "    </tr>\n",
       "    <tr>\n",
       "      <th>mean</th>\n",
       "      <td>6.995923</td>\n",
       "      <td>28.097613</td>\n",
       "    </tr>\n",
       "    <tr>\n",
       "      <th>std</th>\n",
       "      <td>3.272303</td>\n",
       "      <td>36.457876</td>\n",
       "    </tr>\n",
       "    <tr>\n",
       "      <th>min</th>\n",
       "      <td>1.000000</td>\n",
       "      <td>0.000000</td>\n",
       "    </tr>\n",
       "    <tr>\n",
       "      <th>25%</th>\n",
       "      <td>5.000000</td>\n",
       "      <td>6.000000</td>\n",
       "    </tr>\n",
       "    <tr>\n",
       "      <th>50%</th>\n",
       "      <td>8.000000</td>\n",
       "      <td>16.000000</td>\n",
       "    </tr>\n",
       "    <tr>\n",
       "      <th>75%</th>\n",
       "      <td>10.000000</td>\n",
       "      <td>36.000000</td>\n",
       "    </tr>\n",
       "    <tr>\n",
       "      <th>max</th>\n",
       "      <td>10.000000</td>\n",
       "      <td>1291.000000</td>\n",
       "    </tr>\n",
       "  </tbody>\n",
       "</table>\n",
       "</div>"
      ],
      "text/plain": [
       "              rating    usefulCount\n",
       "count  160398.000000  160398.000000\n",
       "mean        6.995923      28.097613\n",
       "std         3.272303      36.457876\n",
       "min         1.000000       0.000000\n",
       "25%         5.000000       6.000000\n",
       "50%         8.000000      16.000000\n",
       "75%        10.000000      36.000000\n",
       "max        10.000000    1291.000000"
      ]
     },
     "execution_count": 16,
     "metadata": {},
     "output_type": "execute_result"
    }
   ],
   "source": [
    "df[['rating','usefulCount']].describe()"
   ]
  },
  {
   "cell_type": "code",
   "execution_count": 17,
   "id": "a314d2cc",
   "metadata": {},
   "outputs": [
    {
     "data": {
      "text/plain": [
       "rating\n",
       "1     21504\n",
       "2      6879\n",
       "3      6465\n",
       "4      4980\n",
       "5      7959\n",
       "6      6301\n",
       "7      9395\n",
       "8     18791\n",
       "9     27379\n",
       "10    50745\n",
       "dtype: int64"
      ]
     },
     "execution_count": 17,
     "metadata": {},
     "output_type": "execute_result"
    }
   ],
   "source": [
    "df.groupby('rating').size()"
   ]
  },
  {
   "cell_type": "code",
   "execution_count": 18,
   "id": "e6a73782",
   "metadata": {},
   "outputs": [
    {
     "data": {
      "text/plain": [
       "drugName\n",
       "A + D Cracked Skin Relief                                                                           10.0\n",
       "Estratest                                                                                           10.0\n",
       "Eovist                                                                                              10.0\n",
       "EpiPen                                                                                              10.0\n",
       "Epivir                                                                                              10.0\n",
       "                                                                                                    ... \n",
       "Sular                                                                                                1.0\n",
       "Bisacodyl / polyethylene glycol 3350 / potassium chloride / sodium bicarbonate / sodium chloride     1.0\n",
       "M-Zole 3                                                                                             1.0\n",
       "Betapace AF                                                                                          1.0\n",
       "Reese's Pinworm Medicine                                                                             1.0\n",
       "Name: rating, Length: 3431, dtype: float64"
      ]
     },
     "execution_count": 18,
     "metadata": {},
     "output_type": "execute_result"
    }
   ],
   "source": [
    "drugs_avg = df['rating'].groupby(df['drugName']).mean() \n",
    "drugs_avg.sort_values(ascending=False)"
   ]
  },
  {
   "cell_type": "code",
   "execution_count": 19,
   "id": "90e84a6e",
   "metadata": {},
   "outputs": [
    {
     "data": {
      "text/plain": [
       "drugName\n",
       "A + D Cracked Skin Relief    10.0\n",
       "Estratest                    10.0\n",
       "Eovist                       10.0\n",
       "EpiPen                       10.0\n",
       "Epivir                       10.0\n",
       "Epivir-HBV                   10.0\n",
       "Epoprostenol                 10.0\n",
       "Epzicom                      10.0\n",
       "Resorcinol / sulfur          10.0\n",
       "Ery Pads                     10.0\n",
       "Eskalith-CR                  10.0\n",
       "Estraderm                    10.0\n",
       "Estropipate                  10.0\n",
       "Prolastin-C                  10.0\n",
       "Triprolidine                 10.0\n",
       "Ethchlorvynol                10.0\n",
       "Triple Paste                 10.0\n",
       "Triple Antibiotic            10.0\n",
       "Excedrin Sinus Headache      10.0\n",
       "Exforge HCT                  10.0\n",
       "Exparel                      10.0\n",
       "Extina                       10.0\n",
       "Exubera                      10.0\n",
       "Proleukin                    10.0\n",
       "Trokendi XR                  10.0\n",
       "Name: rating, dtype: float64"
      ]
     },
     "execution_count": 19,
     "metadata": {},
     "output_type": "execute_result"
    }
   ],
   "source": [
    "drugs_avg.sort_values(ascending=False).nlargest(25)"
   ]
  },
  {
   "cell_type": "markdown",
   "id": "4b14b4f7",
   "metadata": {},
   "source": [
    "## Top drug Names with most usefulcounts"
   ]
  },
  {
   "cell_type": "code",
   "execution_count": 20,
   "id": "71694df2",
   "metadata": {},
   "outputs": [
    {
     "data": {
      "text/plain": [
       "drugName\n",
       "Fluoxetine       181\n",
       "Gabapentin       181\n",
       "Bupropion        177\n",
       "Citalopram       176\n",
       "Sertraline       172\n",
       "Escitalopram     171\n",
       "Prozac           171\n",
       "Zoloft           171\n",
       "Lexapro          169\n",
       "Celexa           166\n",
       "Amitriptyline    162\n",
       "Lorcaserin       157\n",
       "Trazodone        157\n",
       "Duloxetine       153\n",
       "Phentermine      150\n",
       "Belviq           148\n",
       "Alprazolam       146\n",
       "Cymbalta         144\n",
       "Venlafaxine      144\n",
       "BuSpar           141\n",
       "Mirtazapine      140\n",
       "Buspirone        139\n",
       "Xanax            139\n",
       "Clonazepam       137\n",
       "Klonopin         137\n",
       "Name: usefulCount, dtype: int64"
      ]
     },
     "execution_count": 20,
     "metadata": {},
     "output_type": "execute_result"
    }
   ],
   "source": [
    "df.groupby('drugName')['usefulCount'].nunique().nlargest(25)"
   ]
  },
  {
   "cell_type": "code",
   "execution_count": 64,
   "id": "a6c5b040",
   "metadata": {},
   "outputs": [
    {
     "data": {
      "text/plain": [
       "<AxesSubplot:xlabel='rating', ylabel='usefulCount'>"
      ]
     },
     "execution_count": 64,
     "metadata": {},
     "output_type": "execute_result"
    },
    {
     "data": {
      "image/png": "[encoded data removed]",
      "text/plain": [
       "<Figure size 1080x288 with 1 Axes>"
      ]
     },
     "metadata": {},
     "output_type": "display_data"
    }
   ],
   "source": [
    "sns.lineplot(data=df, x ='rating',y='usefulCount')"
   ]
  },
  {
   "cell_type": "code",
   "execution_count": 23,
   "id": "cd153435",
   "metadata": {},
   "outputs": [
    {
     "data": {
      "image/png": "[encoded data removed]",
      "text/plain": [
       "<Figure size 1080x288 with 2 Axes>"
      ]
     },
     "metadata": {},
     "output_type": "display_data"
    }
   ],
   "source": [
    "\n",
    "plt.rcParams['figure.figsize'] = (15, 4)\n",
    "\n",
    "plt.subplot(1, 2, 1)\n",
    "sns.distplot(df['rating'])\n",
    "\n",
    "plt.subplot(1, 2, 2)\n",
    "sns.distplot(df['usefulCount'])\n",
    "\n",
    "plt.suptitle('Rating and Useful Count Distributions \\n ', fontsize = 25)\n",
    "plt.show()"
   ]
  },
  {
   "cell_type": "code",
   "execution_count": 58,
   "id": "3df661b3",
   "metadata": {},
   "outputs": [
    {
     "data": {
      "image/png": "[encoded data removed]",
      "text/plain": [
       "<Figure size 1080x288 with 1 Axes>"
      ]
     },
     "metadata": {},
     "output_type": "display_data"
    }
   ],
   "source": [
    "#plt.rcParams['figure.figsize'] = (15, 4)\n",
    "\n",
    "#plt.subplot(1, 2, 2)\n",
    "sns.distplot(df['usefulCount'])\n",
    "\n",
    "plt.suptitle('Useful Count Distributions \\n ', fontsize = 25)\n",
    "plt.show()"
   ]
  },
  {
   "cell_type": "code",
   "execution_count": 24,
   "id": "9200e012",
   "metadata": {},
   "outputs": [
    {
     "name": "stdout",
     "output_type": "stream",
     "text": [
      "Number of drugs with less than 5 useful feedback count : 31078\n"
     ]
    }
   ],
   "source": [
    "print(\"Number of drugs with less than 5 useful feedback count :\", df[df['usefulCount'] <= 4].count()[0])"
   ]
  },
  {
   "cell_type": "code",
   "execution_count": 25,
   "id": "3d6b402f",
   "metadata": {},
   "outputs": [
    {
     "data": {
      "image/png": "[encoded data removed]",
      "text/plain": [
       "<Figure size 1080x288 with 1 Axes>"
      ]
     },
     "metadata": {},
     "output_type": "display_data"
    }
   ],
   "source": [
    "plt.rcParams['figure.figsize'] = (15, 4)\n",
    "sns.barplot(df['rating'], df['usefulCount'], palette = 'hot')\n",
    "plt.grid()\n",
    "plt.xlabel('\\n Ratings')\n",
    "plt.ylabel('Count\\n', fontsize = 20)\n",
    "plt.title('\\n Rating vs Usefulness Review Feedbacks \\n', fontsize = 20)\n",
    "plt.show()"
   ]
  },
  {
   "cell_type": "code",
   "execution_count": 26,
   "id": "6e90b713",
   "metadata": {},
   "outputs": [
    {
     "name": "stdout",
     "output_type": "stream",
     "text": [
      "Drugs with Greater than 500 Useful Counts : 30\n",
      "Average Rating of Drugs with 500+ Useful Counts : 9.566666666666666\n"
     ]
    }
   ],
   "source": [
    "print(\"Drugs with Greater than 500 Useful Counts :\", df[df['usefulCount'] > 500].count()[0])\n",
    "\n",
    "print(\"Average Rating of Drugs with 500+ Useful Counts :\", df[df['usefulCount'] > 500]['rating'].mean())\n"
   ]
  },
  {
   "cell_type": "code",
   "execution_count": 19,
   "id": "0506174a",
   "metadata": {},
   "outputs": [
    {
     "data": {
      "text/plain": [
       "(160398, 7)"
      ]
     },
     "execution_count": 19,
     "metadata": {},
     "output_type": "execute_result"
    }
   ],
   "source": [
    "df2 = df.copy()\n",
    "df2.shape"
   ]
  },
  {
   "cell_type": "code",
   "execution_count": 26,
   "id": "4e50f7a9",
   "metadata": {},
   "outputs": [
    {
     "data": {
      "text/plain": [
       "(160398, 7)"
      ]
     },
     "execution_count": 26,
     "metadata": {},
     "output_type": "execute_result"
    }
   ],
   "source": [
    "df2.drop_duplicates(['drugName','condition'], keep='first')\n",
    "df2.shape"
   ]
  },
  {
   "cell_type": "code",
   "execution_count": 17,
   "id": "f52e3d8b",
   "metadata": {
    "scrolled": true
   },
   "outputs": [
    {
     "name": "stdout",
     "output_type": "stream",
     "text": [
      "\n",
      " Drug Name and Condition with over 500 useful feedbacks: \n",
      "\n",
      "           drugName           condition\n",
      "0       Citalopram          Depression\n",
      "1           Mirena       Birth Control\n",
      "2         Implanon       Birth Control\n",
      "3          Viibryd          Depression\n",
      "4       Citalopram  Anxiety and Stress\n",
      "5       Sertraline          Depression\n",
      "6        Buspirone             Anxiety\n",
      "7         Adipex-P         Weight Loss\n",
      "8       Duloxetine          Depression\n",
      "9   Levonorgestrel       Birth Control\n",
      "10  Levonorgestrel       Birth Control\n",
      "11          Zoloft          Depression\n",
      "12      Lorcaserin         Weight Loss\n",
      "13     Phentermine         Weight Loss\n",
      "14      Alprazolam             Anxiety\n",
      "15          Zoloft          Depression\n",
      "16          Mirena       Birth Control\n",
      "17         Pristiq          Depression\n",
      "18           Xanax             Anxiety\n",
      "19      Vilazodone          Depression\n",
      "20         Viibryd          Depression\n",
      "21          Celexa  Anxiety and Stress\n",
      "22  Desvenlafaxine          Depression\n",
      "23          Zoloft          Depression\n",
      "24          BuSpar             Anxiety\n",
      "25          Zoloft          Depression\n",
      "26          Belviq         Weight Loss\n",
      "27          BuSpar             Anxiety\n",
      "28          Celexa          Depression\n",
      "29          Celexa          Depression\n"
     ]
    }
   ],
   "source": [
    "print(\"\\n Drug Name and Condition with over 500 useful feedbacks: \\n\\n\", \n",
    "      df[df['usefulCount'] > 500][['drugName','condition']].reset_index(drop = True))\n",
    "\n"
   ]
  },
  {
   "cell_type": "markdown",
   "id": "e362f7b9",
   "metadata": {},
   "source": [
    "## Now, We can move on to the Reviews "
   ]
  },
  {
   "cell_type": "code",
   "execution_count": 28,
   "id": "eb2cae73",
   "metadata": {},
   "outputs": [
    {
     "data": {
      "text/plain": [
       "0    \"It has no side effect, I take it in combinati...\n",
       "1    \"My son is halfway through his fourth week of ...\n",
       "2    \"I used to take another oral contraceptive, wh...\n",
       "3    \"This is my first time using any form of birth...\n",
       "4    \"Suboxone has completely turned my life around...\n",
       "5    \"2nd day on 5mg started to work with rock hard...\n",
       "6    \"He pulled out, but he cummed a bit in me. I t...\n",
       "7    \"Abilify changed my life. There is hope. I was...\n",
       "8    \" I Ve had  nothing but problems with the Kepp...\n",
       "9    \"I had been on the pill for many years. When m...\n",
       "Name: review, dtype: object"
      ]
     },
     "execution_count": 28,
     "metadata": {},
     "output_type": "execute_result"
    }
   ],
   "source": [
    "df.review.head(10)"
   ]
  },
  {
   "cell_type": "code",
   "execution_count": 29,
   "id": "b43f01c5",
   "metadata": {},
   "outputs": [
    {
     "data": {
      "text/plain": [
       "161287    \"I was super against taking medication. I&#039...\n",
       "161288    \"I have been off Prozac for about 4 weeks now....\n",
       "161289    \"Up to 800mg seems to work about once every 2n...\n",
       "161290    \"I have only been on Tekturna for 9 days. The ...\n",
       "161291    \"This would be my second month on Junel. I&#03...\n",
       "161292    \"I wrote my first report in Mid-October of 201...\n",
       "161293    \"I was given this in IV before surgey. I immed...\n",
       "161294    \"Limited improvement after 4 months, developed...\n",
       "161295    \"I&#039;ve been on thyroid medication 49 years...\n",
       "161296    \"I&#039;ve had chronic constipation all my adu...\n",
       "Name: review, dtype: object"
      ]
     },
     "execution_count": 29,
     "metadata": {},
     "output_type": "execute_result"
    }
   ],
   "source": [
    "df.review.tail(10)"
   ]
  },
  {
   "cell_type": "markdown",
   "id": "5e1984de",
   "metadata": {},
   "source": [
    "## Can the length help tell the story?"
   ]
  },
  {
   "cell_type": "code",
   "execution_count": 27,
   "id": "2026dd72",
   "metadata": {},
   "outputs": [],
   "source": [
    "df['len']  = df['review'].apply(len)"
   ]
  },
  {
   "cell_type": "code",
   "execution_count": 28,
   "id": "7cc03215",
   "metadata": {},
   "outputs": [
    {
     "data": {
      "text/html": [
       "<div>\n",
       "<style scoped>\n",
       "    .dataframe tbody tr th:only-of-type {\n",
       "        vertical-align: middle;\n",
       "    }\n",
       "\n",
       "    .dataframe tbody tr th {\n",
       "        vertical-align: top;\n",
       "    }\n",
       "\n",
       "    .dataframe thead tr th {\n",
       "        text-align: left;\n",
       "    }\n",
       "\n",
       "    .dataframe thead tr:last-of-type th {\n",
       "        text-align: right;\n",
       "    }\n",
       "</style>\n",
       "<table border=\"1\" class=\"dataframe\">\n",
       "  <thead>\n",
       "    <tr>\n",
       "      <th></th>\n",
       "      <th colspan=\"3\" halign=\"left\">len</th>\n",
       "    </tr>\n",
       "    <tr>\n",
       "      <th></th>\n",
       "      <th>min</th>\n",
       "      <th>mean</th>\n",
       "      <th>max</th>\n",
       "    </tr>\n",
       "    <tr>\n",
       "      <th>rating</th>\n",
       "      <th></th>\n",
       "      <th></th>\n",
       "      <th></th>\n",
       "    </tr>\n",
       "  </thead>\n",
       "  <tbody>\n",
       "    <tr>\n",
       "      <th>1</th>\n",
       "      <td>5</td>\n",
       "      <td>428.784505</td>\n",
       "      <td>3692</td>\n",
       "    </tr>\n",
       "    <tr>\n",
       "      <th>2</th>\n",
       "      <td>9</td>\n",
       "      <td>452.902893</td>\n",
       "      <td>10787</td>\n",
       "    </tr>\n",
       "    <tr>\n",
       "      <th>3</th>\n",
       "      <td>8</td>\n",
       "      <td>461.249961</td>\n",
       "      <td>5112</td>\n",
       "    </tr>\n",
       "    <tr>\n",
       "      <th>4</th>\n",
       "      <td>7</td>\n",
       "      <td>464.077912</td>\n",
       "      <td>3030</td>\n",
       "    </tr>\n",
       "    <tr>\n",
       "      <th>5</th>\n",
       "      <td>6</td>\n",
       "      <td>477.982661</td>\n",
       "      <td>2048</td>\n",
       "    </tr>\n",
       "    <tr>\n",
       "      <th>6</th>\n",
       "      <td>4</td>\n",
       "      <td>467.957150</td>\n",
       "      <td>2202</td>\n",
       "    </tr>\n",
       "    <tr>\n",
       "      <th>7</th>\n",
       "      <td>6</td>\n",
       "      <td>485.597765</td>\n",
       "      <td>3063</td>\n",
       "    </tr>\n",
       "    <tr>\n",
       "      <th>8</th>\n",
       "      <td>3</td>\n",
       "      <td>483.584163</td>\n",
       "      <td>4087</td>\n",
       "    </tr>\n",
       "    <tr>\n",
       "      <th>9</th>\n",
       "      <td>3</td>\n",
       "      <td>477.696117</td>\n",
       "      <td>6182</td>\n",
       "    </tr>\n",
       "    <tr>\n",
       "      <th>10</th>\n",
       "      <td>3</td>\n",
       "      <td>443.215923</td>\n",
       "      <td>6192</td>\n",
       "    </tr>\n",
       "  </tbody>\n",
       "</table>\n",
       "</div>"
      ],
      "text/plain": [
       "       len                   \n",
       "       min        mean    max\n",
       "rating                       \n",
       "1        5  428.784505   3692\n",
       "2        9  452.902893  10787\n",
       "3        8  461.249961   5112\n",
       "4        7  464.077912   3030\n",
       "5        6  477.982661   2048\n",
       "6        4  467.957150   2202\n",
       "7        6  485.597765   3063\n",
       "8        3  483.584163   4087\n",
       "9        3  477.696117   6182\n",
       "10       3  443.215923   6192"
      ]
     },
     "execution_count": 28,
     "metadata": {},
     "output_type": "execute_result"
    }
   ],
   "source": [
    "df[['rating','len']].groupby(['rating']).agg(['min','mean','max'])"
   ]
  },
  {
   "cell_type": "code",
   "execution_count": 29,
   "id": "1c7045b4",
   "metadata": {},
   "outputs": [],
   "source": [
    "sentiment_analysis = SentimentIntensityAnalyzer()\n",
    "\n",
    "train_sentiments = []\n",
    "\n",
    "for i in df['review']:\n",
    "    train_sentiments.append(sentiment_analysis.polarity_scores(i).get('compound'))\n",
    "    \n",
    "train_sentiments = np.asarray(train_sentiments)\n",
    "df['sentiment'] = pd.Series(data = train_sentiments)"
   ]
  },
  {
   "cell_type": "code",
   "execution_count": 30,
   "id": "f8f1a9da",
   "metadata": {},
   "outputs": [
    {
     "data": {
      "text/html": [
       "<div>\n",
       "<style scoped>\n",
       "    .dataframe tbody tr th:only-of-type {\n",
       "        vertical-align: middle;\n",
       "    }\n",
       "\n",
       "    .dataframe tbody tr th {\n",
       "        vertical-align: top;\n",
       "    }\n",
       "\n",
       "    .dataframe thead tr th {\n",
       "        text-align: left;\n",
       "    }\n",
       "\n",
       "    .dataframe thead tr:last-of-type th {\n",
       "        text-align: right;\n",
       "    }\n",
       "</style>\n",
       "<table border=\"1\" class=\"dataframe\">\n",
       "  <thead>\n",
       "    <tr>\n",
       "      <th></th>\n",
       "      <th colspan=\"3\" halign=\"left\">sentiment</th>\n",
       "    </tr>\n",
       "    <tr>\n",
       "      <th></th>\n",
       "      <th>min</th>\n",
       "      <th>mean</th>\n",
       "      <th>max</th>\n",
       "    </tr>\n",
       "    <tr>\n",
       "      <th>rating</th>\n",
       "      <th></th>\n",
       "      <th></th>\n",
       "      <th></th>\n",
       "    </tr>\n",
       "  </thead>\n",
       "  <tbody>\n",
       "    <tr>\n",
       "      <th>1</th>\n",
       "      <td>-0.9955</td>\n",
       "      <td>-0.040676</td>\n",
       "      <td>0.9952</td>\n",
       "    </tr>\n",
       "    <tr>\n",
       "      <th>2</th>\n",
       "      <td>-0.9955</td>\n",
       "      <td>-0.040235</td>\n",
       "      <td>0.9941</td>\n",
       "    </tr>\n",
       "    <tr>\n",
       "      <th>3</th>\n",
       "      <td>-0.9954</td>\n",
       "      <td>-0.047867</td>\n",
       "      <td>0.9922</td>\n",
       "    </tr>\n",
       "    <tr>\n",
       "      <th>4</th>\n",
       "      <td>-0.9959</td>\n",
       "      <td>-0.051423</td>\n",
       "      <td>0.9942</td>\n",
       "    </tr>\n",
       "    <tr>\n",
       "      <th>5</th>\n",
       "      <td>-0.9945</td>\n",
       "      <td>-0.029558</td>\n",
       "      <td>0.9929</td>\n",
       "    </tr>\n",
       "    <tr>\n",
       "      <th>6</th>\n",
       "      <td>-0.9955</td>\n",
       "      <td>-0.044387</td>\n",
       "      <td>0.9940</td>\n",
       "    </tr>\n",
       "    <tr>\n",
       "      <th>7</th>\n",
       "      <td>-0.9935</td>\n",
       "      <td>-0.050235</td>\n",
       "      <td>0.9952</td>\n",
       "    </tr>\n",
       "    <tr>\n",
       "      <th>8</th>\n",
       "      <td>-0.9955</td>\n",
       "      <td>-0.039700</td>\n",
       "      <td>0.9943</td>\n",
       "    </tr>\n",
       "    <tr>\n",
       "      <th>9</th>\n",
       "      <td>-0.9984</td>\n",
       "      <td>-0.041784</td>\n",
       "      <td>0.9938</td>\n",
       "    </tr>\n",
       "    <tr>\n",
       "      <th>10</th>\n",
       "      <td>-0.9977</td>\n",
       "      <td>-0.042497</td>\n",
       "      <td>0.9952</td>\n",
       "    </tr>\n",
       "  </tbody>\n",
       "</table>\n",
       "</div>"
      ],
      "text/plain": [
       "       sentiment                  \n",
       "             min      mean     max\n",
       "rating                            \n",
       "1        -0.9955 -0.040676  0.9952\n",
       "2        -0.9955 -0.040235  0.9941\n",
       "3        -0.9954 -0.047867  0.9922\n",
       "4        -0.9959 -0.051423  0.9942\n",
       "5        -0.9945 -0.029558  0.9929\n",
       "6        -0.9955 -0.044387  0.9940\n",
       "7        -0.9935 -0.050235  0.9952\n",
       "8        -0.9955 -0.039700  0.9943\n",
       "9        -0.9984 -0.041784  0.9938\n",
       "10       -0.9977 -0.042497  0.9952"
      ]
     },
     "execution_count": 30,
     "metadata": {},
     "output_type": "execute_result"
    }
   ],
   "source": [
    "df[['rating','sentiment']].groupby(['rating']).agg(['min','mean','max'])"
   ]
  },
  {
   "cell_type": "code",
   "execution_count": 31,
   "id": "a2d6e3df",
   "metadata": {},
   "outputs": [],
   "source": [
    "from textblob import TextBlob"
   ]
  },
  {
   "cell_type": "code",
   "execution_count": 32,
   "id": "09ab9ba1",
   "metadata": {},
   "outputs": [],
   "source": [
    "def get_sentiment(text):\n",
    "    blob = TextBlob(text)\n",
    "    return blob.polarity\n",
    "\n",
    "def get_sentiment_label(text):\n",
    "    blob = TextBlob(text)\n",
    "    if blob.polarity > 0:\n",
    "        result = 'positive'\n",
    "    elif blob.polarity < 0:\n",
    "        result = 'negative'\n",
    "    else:\n",
    "        result = 'neutral'\n",
    "    return result\n"
   ]
  },
  {
   "cell_type": "code",
   "execution_count": 33,
   "id": "4521eb27",
   "metadata": {},
   "outputs": [],
   "source": [
    "df['sentiment2'] = df['review'].apply(get_sentiment)"
   ]
  },
  {
   "cell_type": "code",
   "execution_count": 34,
   "id": "48ca4af8",
   "metadata": {},
   "outputs": [],
   "source": [
    "df['sentiment_results'] = df['review'].apply(get_sentiment_label)"
   ]
  },
  {
   "cell_type": "code",
   "execution_count": 35,
   "id": "0754ede4",
   "metadata": {},
   "outputs": [
    {
     "data": {
      "text/html": [
       "<div>\n",
       "<style scoped>\n",
       "    .dataframe tbody tr th:only-of-type {\n",
       "        vertical-align: middle;\n",
       "    }\n",
       "\n",
       "    .dataframe tbody tr th {\n",
       "        vertical-align: top;\n",
       "    }\n",
       "\n",
       "    .dataframe thead th {\n",
       "        text-align: right;\n",
       "    }\n",
       "</style>\n",
       "<table border=\"1\" class=\"dataframe\">\n",
       "  <thead>\n",
       "    <tr style=\"text-align: right;\">\n",
       "      <th></th>\n",
       "      <th>review</th>\n",
       "      <th>sentiment</th>\n",
       "      <th>sentiment_results</th>\n",
       "    </tr>\n",
       "  </thead>\n",
       "  <tbody>\n",
       "    <tr>\n",
       "      <th>0</th>\n",
       "      <td>\"It has no side effect, I take it in combinati...</td>\n",
       "      <td>-0.2960</td>\n",
       "      <td>neutral</td>\n",
       "    </tr>\n",
       "    <tr>\n",
       "      <th>1</th>\n",
       "      <td>\"My son is halfway through his fourth week of ...</td>\n",
       "      <td>0.8603</td>\n",
       "      <td>positive</td>\n",
       "    </tr>\n",
       "    <tr>\n",
       "      <th>2</th>\n",
       "      <td>\"I used to take another oral contraceptive, wh...</td>\n",
       "      <td>0.7962</td>\n",
       "      <td>positive</td>\n",
       "    </tr>\n",
       "    <tr>\n",
       "      <th>3</th>\n",
       "      <td>\"This is my first time using any form of birth...</td>\n",
       "      <td>0.7184</td>\n",
       "      <td>positive</td>\n",
       "    </tr>\n",
       "    <tr>\n",
       "      <th>4</th>\n",
       "      <td>\"Suboxone has completely turned my life around...</td>\n",
       "      <td>0.9403</td>\n",
       "      <td>positive</td>\n",
       "    </tr>\n",
       "    <tr>\n",
       "      <th>...</th>\n",
       "      <td>...</td>\n",
       "      <td>...</td>\n",
       "      <td>...</td>\n",
       "    </tr>\n",
       "    <tr>\n",
       "      <th>161292</th>\n",
       "      <td>\"I wrote my first report in Mid-October of 201...</td>\n",
       "      <td>NaN</td>\n",
       "      <td>positive</td>\n",
       "    </tr>\n",
       "    <tr>\n",
       "      <th>161293</th>\n",
       "      <td>\"I was given this in IV before surgey. I immed...</td>\n",
       "      <td>NaN</td>\n",
       "      <td>negative</td>\n",
       "    </tr>\n",
       "    <tr>\n",
       "      <th>161294</th>\n",
       "      <td>\"Limited improvement after 4 months, developed...</td>\n",
       "      <td>NaN</td>\n",
       "      <td>negative</td>\n",
       "    </tr>\n",
       "    <tr>\n",
       "      <th>161295</th>\n",
       "      <td>\"I&amp;#039;ve been on thyroid medication 49 years...</td>\n",
       "      <td>NaN</td>\n",
       "      <td>positive</td>\n",
       "    </tr>\n",
       "    <tr>\n",
       "      <th>161296</th>\n",
       "      <td>\"I&amp;#039;ve had chronic constipation all my adu...</td>\n",
       "      <td>NaN</td>\n",
       "      <td>positive</td>\n",
       "    </tr>\n",
       "  </tbody>\n",
       "</table>\n",
       "<p>160398 rows × 3 columns</p>\n",
       "</div>"
      ],
      "text/plain": [
       "                                                   review  sentiment  \\\n",
       "0       \"It has no side effect, I take it in combinati...    -0.2960   \n",
       "1       \"My son is halfway through his fourth week of ...     0.8603   \n",
       "2       \"I used to take another oral contraceptive, wh...     0.7962   \n",
       "3       \"This is my first time using any form of birth...     0.7184   \n",
       "4       \"Suboxone has completely turned my life around...     0.9403   \n",
       "...                                                   ...        ...   \n",
       "161292  \"I wrote my first report in Mid-October of 201...        NaN   \n",
       "161293  \"I was given this in IV before surgey. I immed...        NaN   \n",
       "161294  \"Limited improvement after 4 months, developed...        NaN   \n",
       "161295  \"I&#039;ve been on thyroid medication 49 years...        NaN   \n",
       "161296  \"I&#039;ve had chronic constipation all my adu...        NaN   \n",
       "\n",
       "       sentiment_results  \n",
       "0                neutral  \n",
       "1               positive  \n",
       "2               positive  \n",
       "3               positive  \n",
       "4               positive  \n",
       "...                  ...  \n",
       "161292          positive  \n",
       "161293          negative  \n",
       "161294          negative  \n",
       "161295          positive  \n",
       "161296          positive  \n",
       "\n",
       "[160398 rows x 3 columns]"
      ]
     },
     "execution_count": 35,
     "metadata": {},
     "output_type": "execute_result"
    }
   ],
   "source": [
    "df[['review','sentiment','sentiment_results']]"
   ]
  },
  {
   "cell_type": "code",
   "execution_count": 36,
   "id": "739d5fc5",
   "metadata": {},
   "outputs": [
    {
     "data": {
      "text/plain": [
       "positive    100456\n",
       "negative     53030\n",
       "neutral       6912\n",
       "Name: sentiment_results, dtype: int64"
      ]
     },
     "execution_count": 36,
     "metadata": {},
     "output_type": "execute_result"
    }
   ],
   "source": [
    "df['sentiment_results'].value_counts()"
   ]
  },
  {
   "cell_type": "code",
   "execution_count": 40,
   "id": "956672b4",
   "metadata": {},
   "outputs": [
    {
     "data": {
      "text/plain": [
       "(array([0, 1, 2]),\n",
       " [Text(0, 0, 'positive'), Text(1, 0, 'negative'), Text(2, 0, 'neutral')])"
      ]
     },
     "execution_count": 40,
     "metadata": {},
     "output_type": "execute_result"
    },
    {
     "data": {
      "image/png": "[encoded data removed]",
      "text/plain": [
       "<Figure size 1080x360 with 1 Axes>"
      ]
     },
     "metadata": {},
     "output_type": "display_data"
    }
   ],
   "source": [
    "df['sentiment_results'].value_counts().plot(kind='bar')\n",
    "plt.xticks(rotation=360)\n"
   ]
  },
  {
   "cell_type": "code",
   "execution_count": 67,
   "id": "15b1f5fe",
   "metadata": {},
   "outputs": [],
   "source": [
    "df['sentiment_scores'] = df.sentiment2"
   ]
  },
  {
   "cell_type": "code",
   "execution_count": 68,
   "id": "0b69b4d3",
   "metadata": {},
   "outputs": [
    {
     "data": {
      "image/png": "[encoded data removed]",
      "text/plain": [
       "<Figure size 1080x288 with 1 Axes>"
      ]
     },
     "metadata": {},
     "output_type": "display_data"
    }
   ],
   "source": [
    "sns.lineplot(data=df,x='rating',y='sentiment_scores')\n",
    "plt.show()"
   ]
  },
  {
   "cell_type": "code",
   "execution_count": 70,
   "id": "b5fdb4d7",
   "metadata": {},
   "outputs": [
    {
     "data": {
      "text/plain": [
       "<AxesSubplot:xlabel='rating', ylabel='sentiment_scores'>"
      ]
     },
     "execution_count": 70,
     "metadata": {},
     "output_type": "execute_result"
    },
    {
     "data": {
      "image/png": "[encoded data removed]",
      "text/plain": [
       "<Figure size 1080x288 with 1 Axes>"
      ]
     },
     "metadata": {},
     "output_type": "display_data"
    }
   ],
   "source": [
    "sns.lineplot(data=df,x='rating',y='sentiment_scores',hue='sentiment_results')"
   ]
  },
  {
   "cell_type": "code",
   "execution_count": 71,
   "id": "42b8a8a9",
   "metadata": {},
   "outputs": [
    {
     "data": {
      "text/html": [
       "<div>\n",
       "<style scoped>\n",
       "    .dataframe tbody tr th:only-of-type {\n",
       "        vertical-align: middle;\n",
       "    }\n",
       "\n",
       "    .dataframe tbody tr th {\n",
       "        vertical-align: top;\n",
       "    }\n",
       "\n",
       "    .dataframe thead tr th {\n",
       "        text-align: left;\n",
       "    }\n",
       "\n",
       "    .dataframe thead tr:last-of-type th {\n",
       "        text-align: right;\n",
       "    }\n",
       "</style>\n",
       "<table border=\"1\" class=\"dataframe\">\n",
       "  <thead>\n",
       "    <tr>\n",
       "      <th></th>\n",
       "      <th colspan=\"3\" halign=\"left\">sentiment_scores</th>\n",
       "    </tr>\n",
       "    <tr>\n",
       "      <th></th>\n",
       "      <th>min</th>\n",
       "      <th>mean</th>\n",
       "      <th>max</th>\n",
       "    </tr>\n",
       "    <tr>\n",
       "      <th>rating</th>\n",
       "      <th></th>\n",
       "      <th></th>\n",
       "      <th></th>\n",
       "    </tr>\n",
       "  </thead>\n",
       "  <tbody>\n",
       "    <tr>\n",
       "      <th>1</th>\n",
       "      <td>-1.0</td>\n",
       "      <td>-0.082728</td>\n",
       "      <td>1.0</td>\n",
       "    </tr>\n",
       "    <tr>\n",
       "      <th>2</th>\n",
       "      <td>-1.0</td>\n",
       "      <td>-0.041185</td>\n",
       "      <td>0.8</td>\n",
       "    </tr>\n",
       "    <tr>\n",
       "      <th>3</th>\n",
       "      <td>-1.0</td>\n",
       "      <td>-0.015965</td>\n",
       "      <td>1.0</td>\n",
       "    </tr>\n",
       "    <tr>\n",
       "      <th>4</th>\n",
       "      <td>-1.0</td>\n",
       "      <td>0.002449</td>\n",
       "      <td>1.0</td>\n",
       "    </tr>\n",
       "    <tr>\n",
       "      <th>5</th>\n",
       "      <td>-1.0</td>\n",
       "      <td>0.010265</td>\n",
       "      <td>1.0</td>\n",
       "    </tr>\n",
       "    <tr>\n",
       "      <th>6</th>\n",
       "      <td>-1.0</td>\n",
       "      <td>0.037999</td>\n",
       "      <td>1.0</td>\n",
       "    </tr>\n",
       "    <tr>\n",
       "      <th>7</th>\n",
       "      <td>-1.0</td>\n",
       "      <td>0.059657</td>\n",
       "      <td>1.0</td>\n",
       "    </tr>\n",
       "    <tr>\n",
       "      <th>8</th>\n",
       "      <td>-1.0</td>\n",
       "      <td>0.089328</td>\n",
       "      <td>1.0</td>\n",
       "    </tr>\n",
       "    <tr>\n",
       "      <th>9</th>\n",
       "      <td>-1.0</td>\n",
       "      <td>0.110468</td>\n",
       "      <td>1.0</td>\n",
       "    </tr>\n",
       "    <tr>\n",
       "      <th>10</th>\n",
       "      <td>-1.0</td>\n",
       "      <td>0.137097</td>\n",
       "      <td>1.0</td>\n",
       "    </tr>\n",
       "  </tbody>\n",
       "</table>\n",
       "</div>"
      ],
      "text/plain": [
       "       sentiment_scores               \n",
       "                    min      mean  max\n",
       "rating                                \n",
       "1                  -1.0 -0.082728  1.0\n",
       "2                  -1.0 -0.041185  0.8\n",
       "3                  -1.0 -0.015965  1.0\n",
       "4                  -1.0  0.002449  1.0\n",
       "5                  -1.0  0.010265  1.0\n",
       "6                  -1.0  0.037999  1.0\n",
       "7                  -1.0  0.059657  1.0\n",
       "8                  -1.0  0.089328  1.0\n",
       "9                  -1.0  0.110468  1.0\n",
       "10                 -1.0  0.137097  1.0"
      ]
     },
     "execution_count": 71,
     "metadata": {},
     "output_type": "execute_result"
    }
   ],
   "source": [
    "df[['rating','sentiment_scores']].groupby(['rating']).agg(['min','mean','max'])"
   ]
  },
  {
   "cell_type": "code",
   "execution_count": 72,
   "id": "d3c7f1f1",
   "metadata": {},
   "outputs": [
    {
     "data": {
      "text/plain": [
       "drugName\n",
       "Fluoxetine       181\n",
       "Gabapentin       181\n",
       "Bupropion        177\n",
       "Citalopram       176\n",
       "Sertraline       172\n",
       "Escitalopram     171\n",
       "Prozac           171\n",
       "Zoloft           171\n",
       "Lexapro          169\n",
       "Celexa           166\n",
       "Amitriptyline    162\n",
       "Lorcaserin       157\n",
       "Trazodone        157\n",
       "Duloxetine       153\n",
       "Phentermine      150\n",
       "Belviq           148\n",
       "Alprazolam       146\n",
       "Cymbalta         144\n",
       "Venlafaxine      144\n",
       "BuSpar           141\n",
       "Mirtazapine      140\n",
       "Buspirone        139\n",
       "Xanax            139\n",
       "Clonazepam       137\n",
       "Klonopin         137\n",
       "Name: usefulCount, dtype: int64"
      ]
     },
     "execution_count": 72,
     "metadata": {},
     "output_type": "execute_result"
    }
   ],
   "source": [
    "df.groupby('drugName')['usefulCount'].nunique().nlargest(25)"
   ]
  },
  {
   "cell_type": "code",
   "execution_count": 73,
   "id": "b6b13c67",
   "metadata": {},
   "outputs": [
    {
     "data": {
      "text/plain": [
       "condition\n",
       "Depression                      295\n",
       "Anxiety                         245\n",
       "Anxiety and Stress              222\n",
       "Pain                            217\n",
       "Weight Loss                     191\n",
       "Obesity                         189\n",
       "Insomnia                        185\n",
       "High Blood Pressure             177\n",
       "ADHD                            170\n",
       "Bipolar Disorde                 166\n",
       "ibromyalgia                     162\n",
       "Generalized Anxiety Disorde     157\n",
       "Muscle Spasm                    155\n",
       "Erectile Dysfunction            151\n",
       "Panic Disorde                   147\n",
       "Rheumatoid Arthritis            146\n",
       "Birth Control                   140\n",
       "Underactive Thyroid             140\n",
       "Alcohol Dependence              136\n",
       "Benign Prostatic Hyperplasia    136\n",
       "High Cholesterol                136\n",
       "Osteoporosis                    133\n",
       "Diabetes, Type 2                132\n",
       "Chronic Pain                    125\n",
       "Opiate Withdrawal               124\n",
       "Name: usefulCount, dtype: int64"
      ]
     },
     "execution_count": 73,
     "metadata": {},
     "output_type": "execute_result"
    }
   ],
   "source": [
    "df.groupby('condition')['usefulCount'].nunique().nlargest(25)"
   ]
  },
  {
   "cell_type": "code",
   "execution_count": null,
   "id": "e17cccb7",
   "metadata": {},
   "outputs": [],
   "source": []
  },
  {
   "cell_type": "markdown",
   "id": "82ebdb73",
   "metadata": {},
   "source": [
    "### Create a Feature Engineered Score for Pos and Neg reviews"
   ]
  },
  {
   "cell_type": "code",
   "execution_count": 74,
   "id": "5726a482",
   "metadata": {},
   "outputs": [],
   "source": [
    "min_rating = df['rating'].min()\n",
    "max_rating = df['rating'].max()"
   ]
  },
  {
   "cell_type": "markdown",
   "id": "0a0dc93c",
   "metadata": {},
   "source": [
    "## Create a binary calculated results based on the user ratings data"
   ]
  },
  {
   "cell_type": "code",
   "execution_count": 75,
   "id": "4070005f",
   "metadata": {},
   "outputs": [],
   "source": [
    "def rating_FeatEngineering(rating):\n",
    "    rating -= min_rating\n",
    "    rating = rating/(max_rating -1)\n",
    "    rating *= 5\n",
    "    rating = int(round(rating,0))\n",
    "    \n",
    "    if(int(rating) == 0 or int(rating)==1 or int(rating)==2):\n",
    "        return 0\n",
    "    else:\n",
    "        return 1"
   ]
  },
  {
   "cell_type": "code",
   "execution_count": 76,
   "id": "cd76e44a",
   "metadata": {},
   "outputs": [],
   "source": [
    "df['featEngineered'] = df['rating'].apply(rating_FeatEngineering)"
   ]
  },
  {
   "cell_type": "markdown",
   "id": "5f134e31",
   "metadata": {},
   "source": [
    "### Check result outcome by Condition"
   ]
  },
  {
   "cell_type": "code",
   "execution_count": 77,
   "id": "c127d284",
   "metadata": {},
   "outputs": [
    {
     "data": {
      "application/vnd.jupyter.widget-view+json": {
       "model_id": "da8116fc77bd4b2394966df510643a94",
       "version_major": 2,
       "version_minor": 0
      },
      "text/plain": [
       "interactive(children=(Dropdown(description='condition', options=('Birth Control', 'Depression', 'Pain', 'Anxie…"
      ]
     },
     "metadata": {},
     "output_type": "display_data"
    }
   ],
   "source": [
    "@interact\n",
    "def condition_outcome(condition = list(df['condition'].value_counts().index)):\n",
    "    return df[df['condition'] == condition]['featEngineered'].value_counts()"
   ]
  },
  {
   "cell_type": "code",
   "execution_count": 78,
   "id": "97e5eaf7",
   "metadata": {},
   "outputs": [
    {
     "data": {
      "text/html": [
       "<div>\n",
       "<style scoped>\n",
       "    .dataframe tbody tr th:only-of-type {\n",
       "        vertical-align: middle;\n",
       "    }\n",
       "\n",
       "    .dataframe tbody tr th {\n",
       "        vertical-align: top;\n",
       "    }\n",
       "\n",
       "    .dataframe thead th {\n",
       "        text-align: right;\n",
       "    }\n",
       "</style>\n",
       "<table border=\"1\" class=\"dataframe\">\n",
       "  <thead>\n",
       "    <tr style=\"text-align: right;\">\n",
       "      <th></th>\n",
       "      <th>uniqueID</th>\n",
       "      <th>drugName</th>\n",
       "      <th>condition</th>\n",
       "      <th>review</th>\n",
       "      <th>rating</th>\n",
       "      <th>date</th>\n",
       "      <th>usefulCount</th>\n",
       "      <th>len</th>\n",
       "      <th>sentiment</th>\n",
       "      <th>sentiment2</th>\n",
       "      <th>sentiment_results</th>\n",
       "      <th>sentiment_scores</th>\n",
       "      <th>featEngineered</th>\n",
       "    </tr>\n",
       "  </thead>\n",
       "  <tbody>\n",
       "    <tr>\n",
       "      <th>0</th>\n",
       "      <td>206461</td>\n",
       "      <td>Valsartan</td>\n",
       "      <td>Left Ventricular Dysfunction</td>\n",
       "      <td>\"It has no side effect, I take it in combinati...</td>\n",
       "      <td>9</td>\n",
       "      <td>20-May-12</td>\n",
       "      <td>27</td>\n",
       "      <td>79</td>\n",
       "      <td>-0.2960</td>\n",
       "      <td>0.000000</td>\n",
       "      <td>neutral</td>\n",
       "      <td>0.000000</td>\n",
       "      <td>1</td>\n",
       "    </tr>\n",
       "    <tr>\n",
       "      <th>1</th>\n",
       "      <td>95260</td>\n",
       "      <td>Guanfacine</td>\n",
       "      <td>ADHD</td>\n",
       "      <td>\"My son is halfway through his fourth week of ...</td>\n",
       "      <td>8</td>\n",
       "      <td>27-Apr-10</td>\n",
       "      <td>192</td>\n",
       "      <td>741</td>\n",
       "      <td>0.8603</td>\n",
       "      <td>0.168333</td>\n",
       "      <td>positive</td>\n",
       "      <td>0.168333</td>\n",
       "      <td>1</td>\n",
       "    </tr>\n",
       "    <tr>\n",
       "      <th>2</th>\n",
       "      <td>92703</td>\n",
       "      <td>Lybrel</td>\n",
       "      <td>Birth Control</td>\n",
       "      <td>\"I used to take another oral contraceptive, wh...</td>\n",
       "      <td>5</td>\n",
       "      <td>14-Dec-09</td>\n",
       "      <td>17</td>\n",
       "      <td>755</td>\n",
       "      <td>0.7962</td>\n",
       "      <td>0.067210</td>\n",
       "      <td>positive</td>\n",
       "      <td>0.067210</td>\n",
       "      <td>0</td>\n",
       "    </tr>\n",
       "    <tr>\n",
       "      <th>3</th>\n",
       "      <td>138000</td>\n",
       "      <td>Ortho Evra</td>\n",
       "      <td>Birth Control</td>\n",
       "      <td>\"This is my first time using any form of birth...</td>\n",
       "      <td>8</td>\n",
       "      <td>3-Nov-15</td>\n",
       "      <td>10</td>\n",
       "      <td>448</td>\n",
       "      <td>0.7184</td>\n",
       "      <td>0.179545</td>\n",
       "      <td>positive</td>\n",
       "      <td>0.179545</td>\n",
       "      <td>1</td>\n",
       "    </tr>\n",
       "    <tr>\n",
       "      <th>4</th>\n",
       "      <td>35696</td>\n",
       "      <td>Buprenorphine / naloxone</td>\n",
       "      <td>Opiate Dependence</td>\n",
       "      <td>\"Suboxone has completely turned my life around...</td>\n",
       "      <td>9</td>\n",
       "      <td>27-Nov-16</td>\n",
       "      <td>37</td>\n",
       "      <td>719</td>\n",
       "      <td>0.9403</td>\n",
       "      <td>0.194444</td>\n",
       "      <td>positive</td>\n",
       "      <td>0.194444</td>\n",
       "      <td>1</td>\n",
       "    </tr>\n",
       "  </tbody>\n",
       "</table>\n",
       "</div>"
      ],
      "text/plain": [
       "   uniqueID                  drugName                     condition  \\\n",
       "0    206461                 Valsartan  Left Ventricular Dysfunction   \n",
       "1     95260                Guanfacine                          ADHD   \n",
       "2     92703                    Lybrel                 Birth Control   \n",
       "3    138000                Ortho Evra                 Birth Control   \n",
       "4     35696  Buprenorphine / naloxone             Opiate Dependence   \n",
       "\n",
       "                                              review  rating       date  \\\n",
       "0  \"It has no side effect, I take it in combinati...       9  20-May-12   \n",
       "1  \"My son is halfway through his fourth week of ...       8  27-Apr-10   \n",
       "2  \"I used to take another oral contraceptive, wh...       5  14-Dec-09   \n",
       "3  \"This is my first time using any form of birth...       8   3-Nov-15   \n",
       "4  \"Suboxone has completely turned my life around...       9  27-Nov-16   \n",
       "\n",
       "   usefulCount  len  sentiment  sentiment2 sentiment_results  \\\n",
       "0           27   79    -0.2960    0.000000           neutral   \n",
       "1          192  741     0.8603    0.168333          positive   \n",
       "2           17  755     0.7962    0.067210          positive   \n",
       "3           10  448     0.7184    0.179545          positive   \n",
       "4           37  719     0.9403    0.194444          positive   \n",
       "\n",
       "   sentiment_scores  featEngineered  \n",
       "0          0.000000               1  \n",
       "1          0.168333               1  \n",
       "2          0.067210               0  \n",
       "3          0.179545               1  \n",
       "4          0.194444               1  "
      ]
     },
     "execution_count": 78,
     "metadata": {},
     "output_type": "execute_result"
    }
   ],
   "source": [
    "df.head()"
   ]
  },
  {
   "cell_type": "markdown",
   "id": "db42e5dc",
   "metadata": {},
   "source": [
    "### Taking the feature engineered binary labels to create total scores by drug"
   ]
  },
  {
   "cell_type": "code",
   "execution_count": 79,
   "id": "611ebdff",
   "metadata": {},
   "outputs": [],
   "source": [
    "df['use_score'] = df['rating'] * df['usefulCount'] * df['featEngineered']"
   ]
  },
  {
   "cell_type": "code",
   "execution_count": 80,
   "id": "20ee0a6a",
   "metadata": {},
   "outputs": [
    {
     "data": {
      "text/html": [
       "<div>\n",
       "<style scoped>\n",
       "    .dataframe tbody tr th:only-of-type {\n",
       "        vertical-align: middle;\n",
       "    }\n",
       "\n",
       "    .dataframe tbody tr th {\n",
       "        vertical-align: top;\n",
       "    }\n",
       "\n",
       "    .dataframe thead th {\n",
       "        text-align: right;\n",
       "    }\n",
       "</style>\n",
       "<table border=\"1\" class=\"dataframe\">\n",
       "  <thead>\n",
       "    <tr style=\"text-align: right;\">\n",
       "      <th></th>\n",
       "      <th>uniqueID</th>\n",
       "      <th>drugName</th>\n",
       "      <th>condition</th>\n",
       "      <th>review</th>\n",
       "      <th>rating</th>\n",
       "      <th>date</th>\n",
       "      <th>usefulCount</th>\n",
       "      <th>len</th>\n",
       "      <th>sentiment</th>\n",
       "      <th>sentiment2</th>\n",
       "      <th>sentiment_results</th>\n",
       "      <th>sentiment_scores</th>\n",
       "      <th>featEngineered</th>\n",
       "      <th>use_score</th>\n",
       "    </tr>\n",
       "  </thead>\n",
       "  <tbody>\n",
       "    <tr>\n",
       "      <th>0</th>\n",
       "      <td>206461</td>\n",
       "      <td>Valsartan</td>\n",
       "      <td>Left Ventricular Dysfunction</td>\n",
       "      <td>\"It has no side effect, I take it in combinati...</td>\n",
       "      <td>9</td>\n",
       "      <td>20-May-12</td>\n",
       "      <td>27</td>\n",
       "      <td>79</td>\n",
       "      <td>-0.2960</td>\n",
       "      <td>0.000000</td>\n",
       "      <td>neutral</td>\n",
       "      <td>0.000000</td>\n",
       "      <td>1</td>\n",
       "      <td>243</td>\n",
       "    </tr>\n",
       "    <tr>\n",
       "      <th>1</th>\n",
       "      <td>95260</td>\n",
       "      <td>Guanfacine</td>\n",
       "      <td>ADHD</td>\n",
       "      <td>\"My son is halfway through his fourth week of ...</td>\n",
       "      <td>8</td>\n",
       "      <td>27-Apr-10</td>\n",
       "      <td>192</td>\n",
       "      <td>741</td>\n",
       "      <td>0.8603</td>\n",
       "      <td>0.168333</td>\n",
       "      <td>positive</td>\n",
       "      <td>0.168333</td>\n",
       "      <td>1</td>\n",
       "      <td>1536</td>\n",
       "    </tr>\n",
       "    <tr>\n",
       "      <th>2</th>\n",
       "      <td>92703</td>\n",
       "      <td>Lybrel</td>\n",
       "      <td>Birth Control</td>\n",
       "      <td>\"I used to take another oral contraceptive, wh...</td>\n",
       "      <td>5</td>\n",
       "      <td>14-Dec-09</td>\n",
       "      <td>17</td>\n",
       "      <td>755</td>\n",
       "      <td>0.7962</td>\n",
       "      <td>0.067210</td>\n",
       "      <td>positive</td>\n",
       "      <td>0.067210</td>\n",
       "      <td>0</td>\n",
       "      <td>0</td>\n",
       "    </tr>\n",
       "    <tr>\n",
       "      <th>3</th>\n",
       "      <td>138000</td>\n",
       "      <td>Ortho Evra</td>\n",
       "      <td>Birth Control</td>\n",
       "      <td>\"This is my first time using any form of birth...</td>\n",
       "      <td>8</td>\n",
       "      <td>3-Nov-15</td>\n",
       "      <td>10</td>\n",
       "      <td>448</td>\n",
       "      <td>0.7184</td>\n",
       "      <td>0.179545</td>\n",
       "      <td>positive</td>\n",
       "      <td>0.179545</td>\n",
       "      <td>1</td>\n",
       "      <td>80</td>\n",
       "    </tr>\n",
       "    <tr>\n",
       "      <th>4</th>\n",
       "      <td>35696</td>\n",
       "      <td>Buprenorphine / naloxone</td>\n",
       "      <td>Opiate Dependence</td>\n",
       "      <td>\"Suboxone has completely turned my life around...</td>\n",
       "      <td>9</td>\n",
       "      <td>27-Nov-16</td>\n",
       "      <td>37</td>\n",
       "      <td>719</td>\n",
       "      <td>0.9403</td>\n",
       "      <td>0.194444</td>\n",
       "      <td>positive</td>\n",
       "      <td>0.194444</td>\n",
       "      <td>1</td>\n",
       "      <td>333</td>\n",
       "    </tr>\n",
       "  </tbody>\n",
       "</table>\n",
       "</div>"
      ],
      "text/plain": [
       "   uniqueID                  drugName                     condition  \\\n",
       "0    206461                 Valsartan  Left Ventricular Dysfunction   \n",
       "1     95260                Guanfacine                          ADHD   \n",
       "2     92703                    Lybrel                 Birth Control   \n",
       "3    138000                Ortho Evra                 Birth Control   \n",
       "4     35696  Buprenorphine / naloxone             Opiate Dependence   \n",
       "\n",
       "                                              review  rating       date  \\\n",
       "0  \"It has no side effect, I take it in combinati...       9  20-May-12   \n",
       "1  \"My son is halfway through his fourth week of ...       8  27-Apr-10   \n",
       "2  \"I used to take another oral contraceptive, wh...       5  14-Dec-09   \n",
       "3  \"This is my first time using any form of birth...       8   3-Nov-15   \n",
       "4  \"Suboxone has completely turned my life around...       9  27-Nov-16   \n",
       "\n",
       "   usefulCount  len  sentiment  sentiment2 sentiment_results  \\\n",
       "0           27   79    -0.2960    0.000000           neutral   \n",
       "1          192  741     0.8603    0.168333          positive   \n",
       "2           17  755     0.7962    0.067210          positive   \n",
       "3           10  448     0.7184    0.179545          positive   \n",
       "4           37  719     0.9403    0.194444          positive   \n",
       "\n",
       "   sentiment_scores  featEngineered  use_score  \n",
       "0          0.000000               1        243  \n",
       "1          0.168333               1       1536  \n",
       "2          0.067210               0          0  \n",
       "3          0.179545               1         80  \n",
       "4          0.194444               1        333  "
      ]
     },
     "execution_count": 80,
     "metadata": {},
     "output_type": "execute_result"
    }
   ],
   "source": [
    "df.head()"
   ]
  },
  {
   "cell_type": "markdown",
   "id": "1b1066df",
   "metadata": {},
   "source": [
    "## Now, we have an actual score for each drug and condition "
   ]
  },
  {
   "cell_type": "code",
   "execution_count": 56,
   "id": "88480142",
   "metadata": {},
   "outputs": [
    {
     "data": {
      "text/html": [
       "<div>\n",
       "<style scoped>\n",
       "    .dataframe tbody tr th:only-of-type {\n",
       "        vertical-align: middle;\n",
       "    }\n",
       "\n",
       "    .dataframe tbody tr th {\n",
       "        vertical-align: top;\n",
       "    }\n",
       "\n",
       "    .dataframe thead th {\n",
       "        text-align: right;\n",
       "    }\n",
       "</style>\n",
       "<table border=\"1\" class=\"dataframe\">\n",
       "  <thead>\n",
       "    <tr style=\"text-align: right;\">\n",
       "      <th></th>\n",
       "      <th>drugName</th>\n",
       "      <th>condition</th>\n",
       "      <th>use_score</th>\n",
       "    </tr>\n",
       "  </thead>\n",
       "  <tbody>\n",
       "    <tr>\n",
       "      <th>0</th>\n",
       "      <td>Sertraline</td>\n",
       "      <td>Depression</td>\n",
       "      <td>12910</td>\n",
       "    </tr>\n",
       "    <tr>\n",
       "      <th>1</th>\n",
       "      <td>Zoloft</td>\n",
       "      <td>Depression</td>\n",
       "      <td>12910</td>\n",
       "    </tr>\n",
       "    <tr>\n",
       "      <th>2</th>\n",
       "      <td>Levonorgestrel</td>\n",
       "      <td>Birth Control</td>\n",
       "      <td>12470</td>\n",
       "    </tr>\n",
       "    <tr>\n",
       "      <th>3</th>\n",
       "      <td>Mirena</td>\n",
       "      <td>Birth Control</td>\n",
       "      <td>12470</td>\n",
       "    </tr>\n",
       "    <tr>\n",
       "      <th>4</th>\n",
       "      <td>Zoloft</td>\n",
       "      <td>Depression</td>\n",
       "      <td>8541</td>\n",
       "    </tr>\n",
       "    <tr>\n",
       "      <th>5</th>\n",
       "      <td>Phentermine</td>\n",
       "      <td>Weight Loss</td>\n",
       "      <td>7960</td>\n",
       "    </tr>\n",
       "    <tr>\n",
       "      <th>6</th>\n",
       "      <td>Adipex-P</td>\n",
       "      <td>Weight Loss</td>\n",
       "      <td>7960</td>\n",
       "    </tr>\n",
       "    <tr>\n",
       "      <th>7</th>\n",
       "      <td>Implanon</td>\n",
       "      <td>Birth Control</td>\n",
       "      <td>7300</td>\n",
       "    </tr>\n",
       "    <tr>\n",
       "      <th>8</th>\n",
       "      <td>Viibryd</td>\n",
       "      <td>Depression</td>\n",
       "      <td>6930</td>\n",
       "    </tr>\n",
       "    <tr>\n",
       "      <th>9</th>\n",
       "      <td>Vilazodone</td>\n",
       "      <td>Depression</td>\n",
       "      <td>6930</td>\n",
       "    </tr>\n",
       "    <tr>\n",
       "      <th>10</th>\n",
       "      <td>Zoloft</td>\n",
       "      <td>Depression</td>\n",
       "      <td>6800</td>\n",
       "    </tr>\n",
       "    <tr>\n",
       "      <th>11</th>\n",
       "      <td>Duloxetine</td>\n",
       "      <td>Depression</td>\n",
       "      <td>6210</td>\n",
       "    </tr>\n",
       "    <tr>\n",
       "      <th>12</th>\n",
       "      <td>Citalopram</td>\n",
       "      <td>Depression</td>\n",
       "      <td>6168</td>\n",
       "    </tr>\n",
       "    <tr>\n",
       "      <th>13</th>\n",
       "      <td>Celexa</td>\n",
       "      <td>Depression</td>\n",
       "      <td>6168</td>\n",
       "    </tr>\n",
       "    <tr>\n",
       "      <th>14</th>\n",
       "      <td>Zoloft</td>\n",
       "      <td>Depression</td>\n",
       "      <td>5796</td>\n",
       "    </tr>\n",
       "    <tr>\n",
       "      <th>15</th>\n",
       "      <td>Lorcaserin</td>\n",
       "      <td>Weight Loss</td>\n",
       "      <td>5560</td>\n",
       "    </tr>\n",
       "    <tr>\n",
       "      <th>16</th>\n",
       "      <td>Belviq</td>\n",
       "      <td>Weight Loss</td>\n",
       "      <td>5560</td>\n",
       "    </tr>\n",
       "    <tr>\n",
       "      <th>17</th>\n",
       "      <td>Celexa</td>\n",
       "      <td>Anxiety and Stress</td>\n",
       "      <td>5544</td>\n",
       "    </tr>\n",
       "    <tr>\n",
       "      <th>18</th>\n",
       "      <td>Citalopram</td>\n",
       "      <td>Anxiety and Stress</td>\n",
       "      <td>5544</td>\n",
       "    </tr>\n",
       "    <tr>\n",
       "      <th>19</th>\n",
       "      <td>BuSpar</td>\n",
       "      <td>Anxiety</td>\n",
       "      <td>5265</td>\n",
       "    </tr>\n",
       "    <tr>\n",
       "      <th>20</th>\n",
       "      <td>Xanax</td>\n",
       "      <td>Anxiety</td>\n",
       "      <td>5260</td>\n",
       "    </tr>\n",
       "    <tr>\n",
       "      <th>21</th>\n",
       "      <td>Alprazolam</td>\n",
       "      <td>Anxiety</td>\n",
       "      <td>5260</td>\n",
       "    </tr>\n",
       "    <tr>\n",
       "      <th>22</th>\n",
       "      <td>BuSpar</td>\n",
       "      <td>Anxiety</td>\n",
       "      <td>5200</td>\n",
       "    </tr>\n",
       "    <tr>\n",
       "      <th>23</th>\n",
       "      <td>Buspirone</td>\n",
       "      <td>Anxiety</td>\n",
       "      <td>5200</td>\n",
       "    </tr>\n",
       "    <tr>\n",
       "      <th>24</th>\n",
       "      <td>Mirena</td>\n",
       "      <td>Birth Control</td>\n",
       "      <td>5050</td>\n",
       "    </tr>\n",
       "  </tbody>\n",
       "</table>\n",
       "</div>"
      ],
      "text/plain": [
       "          drugName           condition  use_score\n",
       "0       Sertraline          Depression      12910\n",
       "1           Zoloft          Depression      12910\n",
       "2   Levonorgestrel       Birth Control      12470\n",
       "3           Mirena       Birth Control      12470\n",
       "4           Zoloft          Depression       8541\n",
       "5      Phentermine         Weight Loss       7960\n",
       "6         Adipex-P         Weight Loss       7960\n",
       "7         Implanon       Birth Control       7300\n",
       "8          Viibryd          Depression       6930\n",
       "9       Vilazodone          Depression       6930\n",
       "10          Zoloft          Depression       6800\n",
       "11      Duloxetine          Depression       6210\n",
       "12      Citalopram          Depression       6168\n",
       "13          Celexa          Depression       6168\n",
       "14          Zoloft          Depression       5796\n",
       "15      Lorcaserin         Weight Loss       5560\n",
       "16          Belviq         Weight Loss       5560\n",
       "17          Celexa  Anxiety and Stress       5544\n",
       "18      Citalopram  Anxiety and Stress       5544\n",
       "19          BuSpar             Anxiety       5265\n",
       "20           Xanax             Anxiety       5260\n",
       "21      Alprazolam             Anxiety       5260\n",
       "22          BuSpar             Anxiety       5200\n",
       "23       Buspirone             Anxiety       5200\n",
       "24          Mirena       Birth Control       5050"
      ]
     },
     "execution_count": 56,
     "metadata": {},
     "output_type": "execute_result"
    }
   ],
   "source": [
    "df[['drugName','condition','use_score']][df['use_score'] > \n",
    "                            df['use_score'].mean()].sort_values(by = 'use_score', \n",
    "                                        ascending = False).head(25).reset_index(drop = True)"
   ]
  },
  {
   "cell_type": "markdown",
   "id": "64f52e78",
   "metadata": {},
   "source": [
    "## Recall, which medical conditions occur the most"
   ]
  },
  {
   "cell_type": "code",
   "execution_count": 57,
   "id": "a82ce374",
   "metadata": {},
   "outputs": [
    {
     "name": "stdout",
     "output_type": "stream",
     "text": [
      "Medical Conditions Count : 884\n"
     ]
    },
    {
     "data": {
      "text/plain": [
       "Birth Control                28788\n",
       "Depression                    9069\n",
       "Pain                          6145\n",
       "Anxiety                       5904\n",
       "Acne                          5588\n",
       "Bipolar Disorde               4224\n",
       "Insomnia                      3673\n",
       "Weight Loss                   3609\n",
       "Obesity                       3568\n",
       "ADHD                          3383\n",
       "Diabetes, Type 2              2554\n",
       "Emergency Contraception       2463\n",
       "High Blood Pressure           2321\n",
       "Vaginal Yeast Infection       2274\n",
       "Abnormal Uterine Bleeding     2096\n",
       "Bowel Preparation             1859\n",
       "ibromyalgia                   1791\n",
       "Smoking Cessation             1780\n",
       "Migraine                      1694\n",
       "Anxiety and Stress            1663\n",
       "Major Depressive Disorde      1607\n",
       "Constipation                  1595\n",
       "Panic Disorde                 1463\n",
       "Chronic Pain                  1455\n",
       "Migraine Prevention           1413\n",
       "Name: condition, dtype: int64"
      ]
     },
     "execution_count": 57,
     "metadata": {},
     "output_type": "execute_result"
    }
   ],
   "source": [
    "print(\"Medical Conditions Count :\", df['condition'].nunique())\n",
    "df['condition'].value_counts().head(25)"
   ]
  },
  {
   "cell_type": "markdown",
   "id": "b0c0a6a9",
   "metadata": {},
   "source": [
    "## Similary, recall which drugs are most useful"
   ]
  },
  {
   "cell_type": "code",
   "execution_count": 58,
   "id": "39eaae6d",
   "metadata": {},
   "outputs": [
    {
     "data": {
      "text/html": [
       "<div>\n",
       "<style scoped>\n",
       "    .dataframe tbody tr th:only-of-type {\n",
       "        vertical-align: middle;\n",
       "    }\n",
       "\n",
       "    .dataframe tbody tr th {\n",
       "        vertical-align: top;\n",
       "    }\n",
       "\n",
       "    .dataframe thead th {\n",
       "        text-align: right;\n",
       "    }\n",
       "</style>\n",
       "<table border=\"1\" class=\"dataframe\">\n",
       "  <thead>\n",
       "    <tr style=\"text-align: right;\">\n",
       "      <th></th>\n",
       "      <th>drugName</th>\n",
       "      <th>usefulCount</th>\n",
       "    </tr>\n",
       "  </thead>\n",
       "  <tbody>\n",
       "    <tr>\n",
       "      <th>0</th>\n",
       "      <td>Zoloft</td>\n",
       "      <td>1291</td>\n",
       "    </tr>\n",
       "    <tr>\n",
       "      <th>1</th>\n",
       "      <td>Sertraline</td>\n",
       "      <td>1291</td>\n",
       "    </tr>\n",
       "    <tr>\n",
       "      <th>2</th>\n",
       "      <td>Levonorgestrel</td>\n",
       "      <td>1247</td>\n",
       "    </tr>\n",
       "    <tr>\n",
       "      <th>3</th>\n",
       "      <td>Mirena</td>\n",
       "      <td>1247</td>\n",
       "    </tr>\n",
       "    <tr>\n",
       "      <th>4</th>\n",
       "      <td>Zoloft</td>\n",
       "      <td>949</td>\n",
       "    </tr>\n",
       "    <tr>\n",
       "      <th>5</th>\n",
       "      <td>Adipex-P</td>\n",
       "      <td>796</td>\n",
       "    </tr>\n",
       "    <tr>\n",
       "      <th>6</th>\n",
       "      <td>Phentermine</td>\n",
       "      <td>796</td>\n",
       "    </tr>\n",
       "    <tr>\n",
       "      <th>7</th>\n",
       "      <td>Celexa</td>\n",
       "      <td>771</td>\n",
       "    </tr>\n",
       "    <tr>\n",
       "      <th>8</th>\n",
       "      <td>Citalopram</td>\n",
       "      <td>771</td>\n",
       "    </tr>\n",
       "    <tr>\n",
       "      <th>9</th>\n",
       "      <td>Implanon</td>\n",
       "      <td>730</td>\n",
       "    </tr>\n",
       "    <tr>\n",
       "      <th>10</th>\n",
       "      <td>Vilazodone</td>\n",
       "      <td>693</td>\n",
       "    </tr>\n",
       "    <tr>\n",
       "      <th>11</th>\n",
       "      <td>Celexa</td>\n",
       "      <td>693</td>\n",
       "    </tr>\n",
       "    <tr>\n",
       "      <th>12</th>\n",
       "      <td>Viibryd</td>\n",
       "      <td>693</td>\n",
       "    </tr>\n",
       "    <tr>\n",
       "      <th>13</th>\n",
       "      <td>Citalopram</td>\n",
       "      <td>693</td>\n",
       "    </tr>\n",
       "    <tr>\n",
       "      <th>14</th>\n",
       "      <td>Zoloft</td>\n",
       "      <td>680</td>\n",
       "    </tr>\n",
       "    <tr>\n",
       "      <th>15</th>\n",
       "      <td>Zoloft</td>\n",
       "      <td>644</td>\n",
       "    </tr>\n",
       "    <tr>\n",
       "      <th>16</th>\n",
       "      <td>Duloxetine</td>\n",
       "      <td>621</td>\n",
       "    </tr>\n",
       "    <tr>\n",
       "      <th>17</th>\n",
       "      <td>BuSpar</td>\n",
       "      <td>585</td>\n",
       "    </tr>\n",
       "    <tr>\n",
       "      <th>18</th>\n",
       "      <td>Celexa</td>\n",
       "      <td>559</td>\n",
       "    </tr>\n",
       "    <tr>\n",
       "      <th>19</th>\n",
       "      <td>Belviq</td>\n",
       "      <td>556</td>\n",
       "    </tr>\n",
       "    <tr>\n",
       "      <th>20</th>\n",
       "      <td>Lorcaserin</td>\n",
       "      <td>556</td>\n",
       "    </tr>\n",
       "    <tr>\n",
       "      <th>21</th>\n",
       "      <td>Xanax</td>\n",
       "      <td>526</td>\n",
       "    </tr>\n",
       "    <tr>\n",
       "      <th>22</th>\n",
       "      <td>Alprazolam</td>\n",
       "      <td>526</td>\n",
       "    </tr>\n",
       "    <tr>\n",
       "      <th>23</th>\n",
       "      <td>Buspirone</td>\n",
       "      <td>520</td>\n",
       "    </tr>\n",
       "    <tr>\n",
       "      <th>24</th>\n",
       "      <td>BuSpar</td>\n",
       "      <td>520</td>\n",
       "    </tr>\n",
       "  </tbody>\n",
       "</table>\n",
       "</div>"
      ],
      "text/plain": [
       "          drugName  usefulCount\n",
       "0           Zoloft         1291\n",
       "1       Sertraline         1291\n",
       "2   Levonorgestrel         1247\n",
       "3           Mirena         1247\n",
       "4           Zoloft          949\n",
       "5         Adipex-P          796\n",
       "6      Phentermine          796\n",
       "7           Celexa          771\n",
       "8       Citalopram          771\n",
       "9         Implanon          730\n",
       "10      Vilazodone          693\n",
       "11          Celexa          693\n",
       "12         Viibryd          693\n",
       "13      Citalopram          693\n",
       "14          Zoloft          680\n",
       "15          Zoloft          644\n",
       "16      Duloxetine          621\n",
       "17          BuSpar          585\n",
       "18          Celexa          559\n",
       "19          Belviq          556\n",
       "20      Lorcaserin          556\n",
       "21           Xanax          526\n",
       "22      Alprazolam          526\n",
       "23       Buspirone          520\n",
       "24          BuSpar          520"
      ]
     },
     "execution_count": 58,
     "metadata": {},
     "output_type": "execute_result"
    }
   ],
   "source": [
    "df[['drugName','usefulCount']][df['usefulCount'] >\n",
    "                    df['usefulCount'].mean()].sort_values(by = 'usefulCount',\n",
    "                                        ascending = False).head(25).reset_index(drop = True)"
   ]
  },
  {
   "cell_type": "code",
   "execution_count": 67,
   "id": "46eaebd3",
   "metadata": {},
   "outputs": [],
   "source": [
    "df = df.drop_duplicates()"
   ]
  },
  {
   "cell_type": "markdown",
   "id": "d1167925",
   "metadata": {},
   "source": [
    "### Finding Most Useful and Useless Drugs for each Condition"
   ]
  },
  {
   "cell_type": "code",
   "execution_count": 60,
   "id": "426bd7c6",
   "metadata": {},
   "outputs": [
    {
     "data": {
      "application/vnd.jupyter.widget-view+json": {
       "model_id": "52474bfaf0964e8c9348cf60b7a54a56",
       "version_major": 2,
       "version_minor": 0
      },
      "text/plain": [
       "interactive(children=(Dropdown(description='condition', options=('Birth Control', 'Depression', 'Pain', 'Anxie…"
      ]
     },
     "metadata": {},
     "output_type": "display_data"
    }
   ],
   "source": [
    "\n",
    "@interact\n",
    "def high_low_rate(condition = list(df['condition'].value_counts().index)):\n",
    "    print(\"\\n The Top 10 Medical Drugs For The Condition Selected are:\")\n",
    "    print(df[df['condition'] == condition][['drugName','use_score']].sort_values(by = 'use_score',\n",
    "                                                 ascending = False).head(10).reset_index(drop = True))\n",
    "    print(\"\\n\\n The Bottom 10 Medical Drugs For The Condition Selected are:\")\n",
    "    print(df[df['condition'] == condition][['drugName','use_score']].sort_values(by = 'use_score',\n",
    "                                                 ascending = True).head(10).reset_index(drop = True))"
   ]
  },
  {
   "cell_type": "code",
   "execution_count": 68,
   "id": "de38cf94",
   "metadata": {},
   "outputs": [
    {
     "ename": "TypeError",
     "evalue": "'NoneType' object is not subscriptable",
     "output_type": "error",
     "traceback": [
      "\u001b[0;31m---------------------------------------------------------------------------\u001b[0m",
      "\u001b[0;31mTypeError\u001b[0m                                 Traceback (most recent call last)",
      "Input \u001b[0;32mIn [68]\u001b[0m, in \u001b[0;36m<cell line: 1>\u001b[0;34m()\u001b[0m\n\u001b[1;32m      1\u001b[0m \u001b[38;5;129m@interact\u001b[39m\n\u001b[0;32m----> 2\u001b[0m \u001b[38;5;28;01mdef\u001b[39;00m \u001b[38;5;21mtop_drugs_by_condition\u001b[39m(condition \u001b[38;5;241m=\u001b[39m \u001b[38;5;28mlist\u001b[39m(\u001b[43mdf\u001b[49m\u001b[43m[\u001b[49m\u001b[38;5;124;43m'\u001b[39;49m\u001b[38;5;124;43mcondition\u001b[39;49m\u001b[38;5;124;43m'\u001b[39;49m\u001b[43m]\u001b[49m\u001b[38;5;241m.\u001b[39mvalue_counts()\u001b[38;5;241m.\u001b[39mindex)):\n\u001b[1;32m      3\u001b[0m     \u001b[38;5;28mprint\u001b[39m(\u001b[38;5;124m\"\u001b[39m\u001b[38;5;130;01m\\n\u001b[39;00m\u001b[38;5;124m The Top 5 Medical Drugs For The Condition Selected are:\u001b[39m\u001b[38;5;124m\"\u001b[39m)\n\u001b[1;32m      4\u001b[0m     \u001b[38;5;28mprint\u001b[39m(df[df[\u001b[38;5;124m'\u001b[39m\u001b[38;5;124mcondition\u001b[39m\u001b[38;5;124m'\u001b[39m] \u001b[38;5;241m==\u001b[39m condition][[\u001b[38;5;124m'\u001b[39m\u001b[38;5;124mdrugName\u001b[39m\u001b[38;5;124m'\u001b[39m,\u001b[38;5;124m'\u001b[39m\u001b[38;5;124muse_score\u001b[39m\u001b[38;5;124m'\u001b[39m]]\u001b[38;5;241m.\u001b[39msort_values(by \u001b[38;5;241m=\u001b[39m \u001b[38;5;124m'\u001b[39m\u001b[38;5;124muse_score\u001b[39m\u001b[38;5;124m'\u001b[39m,\n\u001b[1;32m      5\u001b[0m                                                  ascending \u001b[38;5;241m=\u001b[39m \u001b[38;5;28;01mFalse\u001b[39;00m)\u001b[38;5;241m.\u001b[39mhead(\u001b[38;5;241m5\u001b[39m)\u001b[38;5;241m.\u001b[39mreset_index(drop \u001b[38;5;241m=\u001b[39m \u001b[38;5;28;01mTrue\u001b[39;00m))\n",
      "\u001b[0;31mTypeError\u001b[0m: 'NoneType' object is not subscriptable"
     ]
    }
   ],
   "source": [
    "@interact\n",
    "def top_drugs_by_condition(condition = list(df['condition'].value_counts().index)):\n",
    "    print(\"\\n The Top 5 Medical Drugs For The Condition Selected are:\")\n",
    "    print(df[df['condition'] == condition][['drugName','use_score']].sort_values(by = 'use_score',\n",
    "                                                 ascending = False).head(5).reset_index(drop = True))"
   ]
  },
  {
   "cell_type": "code",
   "execution_count": null,
   "id": "17f2503a",
   "metadata": {},
   "outputs": [],
   "source": []
  },
  {
   "cell_type": "code",
   "execution_count": null,
   "id": "40a9ae4f",
   "metadata": {},
   "outputs": [],
   "source": []
  },
  {
   "cell_type": "code",
   "execution_count": null,
   "id": "47d92bb8",
   "metadata": {},
   "outputs": [],
   "source": []
  },
  {
   "cell_type": "code",
   "execution_count": null,
   "id": "edb30ef9",
   "metadata": {},
   "outputs": [],
   "source": []
  }
 ],
 "metadata": {
  "kernelspec": {
   "display_name": "Python 3 (ipykernel)",
   "language": "python",
   "name": "python3"
  },
  "language_info": {
   "codemirror_mode": {
    "name": "ipython",
    "version": 3
   },
   "file_extension": ".py",
   "mimetype": "text/x-python",
   "name": "python",
   "nbconvert_exporter": "python",
   "pygments_lexer": "ipython3",
   "version": "3.9.12"
  }
 },
 "nbformat": 4,
 "nbformat_minor": 5
}
